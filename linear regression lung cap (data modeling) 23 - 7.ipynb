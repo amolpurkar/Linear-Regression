{
 "cells": [
  {
   "cell_type": "code",
   "execution_count": 1,
   "id": "cb7d62c2",
   "metadata": {},
   "outputs": [],
   "source": [
    "import pandas as pd"
   ]
  },
  {
   "cell_type": "code",
   "execution_count": 2,
   "id": "14fac0dc",
   "metadata": {},
   "outputs": [],
   "source": [
    "lcn =  pd.read_csv(r\"C:\\Users\\Amol purkar\\Desktop\\Imarticus\\Python\\LungCapData.csv\")"
   ]
  },
  {
   "cell_type": "code",
   "execution_count": 4,
   "id": "f838ccbe",
   "metadata": {},
   "outputs": [
    {
     "data": {
      "text/html": [
       "<div>\n",
       "<style scoped>\n",
       "    .dataframe tbody tr th:only-of-type {\n",
       "        vertical-align: middle;\n",
       "    }\n",
       "\n",
       "    .dataframe tbody tr th {\n",
       "        vertical-align: top;\n",
       "    }\n",
       "\n",
       "    .dataframe thead th {\n",
       "        text-align: right;\n",
       "    }\n",
       "</style>\n",
       "<table border=\"1\" class=\"dataframe\">\n",
       "  <thead>\n",
       "    <tr style=\"text-align: right;\">\n",
       "      <th></th>\n",
       "      <th>LungCap</th>\n",
       "      <th>Age</th>\n",
       "      <th>Height</th>\n",
       "      <th>Smoke</th>\n",
       "      <th>Gender</th>\n",
       "      <th>Caesarean</th>\n",
       "    </tr>\n",
       "  </thead>\n",
       "  <tbody>\n",
       "    <tr>\n",
       "      <th>0</th>\n",
       "      <td>6.475</td>\n",
       "      <td>6</td>\n",
       "      <td>62.1</td>\n",
       "      <td>no</td>\n",
       "      <td>male</td>\n",
       "      <td>no</td>\n",
       "    </tr>\n",
       "    <tr>\n",
       "      <th>1</th>\n",
       "      <td>10.125</td>\n",
       "      <td>18</td>\n",
       "      <td>74.7</td>\n",
       "      <td>yes</td>\n",
       "      <td>female</td>\n",
       "      <td>no</td>\n",
       "    </tr>\n",
       "    <tr>\n",
       "      <th>2</th>\n",
       "      <td>9.550</td>\n",
       "      <td>16</td>\n",
       "      <td>69.7</td>\n",
       "      <td>no</td>\n",
       "      <td>female</td>\n",
       "      <td>yes</td>\n",
       "    </tr>\n",
       "    <tr>\n",
       "      <th>3</th>\n",
       "      <td>11.125</td>\n",
       "      <td>14</td>\n",
       "      <td>71.0</td>\n",
       "      <td>no</td>\n",
       "      <td>male</td>\n",
       "      <td>no</td>\n",
       "    </tr>\n",
       "    <tr>\n",
       "      <th>4</th>\n",
       "      <td>4.800</td>\n",
       "      <td>5</td>\n",
       "      <td>56.9</td>\n",
       "      <td>no</td>\n",
       "      <td>male</td>\n",
       "      <td>no</td>\n",
       "    </tr>\n",
       "    <tr>\n",
       "      <th>5</th>\n",
       "      <td>6.225</td>\n",
       "      <td>11</td>\n",
       "      <td>58.7</td>\n",
       "      <td>no</td>\n",
       "      <td>female</td>\n",
       "      <td>no</td>\n",
       "    </tr>\n",
       "    <tr>\n",
       "      <th>6</th>\n",
       "      <td>4.950</td>\n",
       "      <td>8</td>\n",
       "      <td>63.3</td>\n",
       "      <td>no</td>\n",
       "      <td>male</td>\n",
       "      <td>yes</td>\n",
       "    </tr>\n",
       "    <tr>\n",
       "      <th>7</th>\n",
       "      <td>7.325</td>\n",
       "      <td>11</td>\n",
       "      <td>70.4</td>\n",
       "      <td>no</td>\n",
       "      <td>male</td>\n",
       "      <td>no</td>\n",
       "    </tr>\n",
       "    <tr>\n",
       "      <th>8</th>\n",
       "      <td>8.875</td>\n",
       "      <td>15</td>\n",
       "      <td>70.5</td>\n",
       "      <td>no</td>\n",
       "      <td>male</td>\n",
       "      <td>no</td>\n",
       "    </tr>\n",
       "    <tr>\n",
       "      <th>9</th>\n",
       "      <td>6.800</td>\n",
       "      <td>11</td>\n",
       "      <td>59.2</td>\n",
       "      <td>no</td>\n",
       "      <td>male</td>\n",
       "      <td>no</td>\n",
       "    </tr>\n",
       "  </tbody>\n",
       "</table>\n",
       "</div>"
      ],
      "text/plain": [
       "   LungCap  Age  Height Smoke  Gender Caesarean\n",
       "0    6.475    6    62.1    no    male        no\n",
       "1   10.125   18    74.7   yes  female        no\n",
       "2    9.550   16    69.7    no  female       yes\n",
       "3   11.125   14    71.0    no    male        no\n",
       "4    4.800    5    56.9    no    male        no\n",
       "5    6.225   11    58.7    no  female        no\n",
       "6    4.950    8    63.3    no    male       yes\n",
       "7    7.325   11    70.4    no    male        no\n",
       "8    8.875   15    70.5    no    male        no\n",
       "9    6.800   11    59.2    no    male        no"
      ]
     },
     "execution_count": 4,
     "metadata": {},
     "output_type": "execute_result"
    }
   ],
   "source": [
    "lcn.head(10)"
   ]
  },
  {
   "cell_type": "code",
   "execution_count": 5,
   "id": "9c1bb8fe",
   "metadata": {},
   "outputs": [],
   "source": [
    "lcn.Smoke = lcn.Smoke.replace({'no':0,'yes':1})\n",
    "lcn.Gender= lcn.Gender.replace({'male':0,'female':1})\n",
    "lcn.Caesarean= lcn.Caesarean.replace({'no':0,'yes':1})"
   ]
  },
  {
   "cell_type": "code",
   "execution_count": 6,
   "id": "4aa73b43",
   "metadata": {},
   "outputs": [
    {
     "data": {
      "text/html": [
       "<div>\n",
       "<style scoped>\n",
       "    .dataframe tbody tr th:only-of-type {\n",
       "        vertical-align: middle;\n",
       "    }\n",
       "\n",
       "    .dataframe tbody tr th {\n",
       "        vertical-align: top;\n",
       "    }\n",
       "\n",
       "    .dataframe thead th {\n",
       "        text-align: right;\n",
       "    }\n",
       "</style>\n",
       "<table border=\"1\" class=\"dataframe\">\n",
       "  <thead>\n",
       "    <tr style=\"text-align: right;\">\n",
       "      <th></th>\n",
       "      <th>LungCap</th>\n",
       "      <th>Age</th>\n",
       "      <th>Height</th>\n",
       "      <th>Smoke</th>\n",
       "      <th>Gender</th>\n",
       "      <th>Caesarean</th>\n",
       "    </tr>\n",
       "  </thead>\n",
       "  <tbody>\n",
       "    <tr>\n",
       "      <th>0</th>\n",
       "      <td>6.475</td>\n",
       "      <td>6</td>\n",
       "      <td>62.1</td>\n",
       "      <td>0</td>\n",
       "      <td>0</td>\n",
       "      <td>0</td>\n",
       "    </tr>\n",
       "    <tr>\n",
       "      <th>1</th>\n",
       "      <td>10.125</td>\n",
       "      <td>18</td>\n",
       "      <td>74.7</td>\n",
       "      <td>1</td>\n",
       "      <td>1</td>\n",
       "      <td>0</td>\n",
       "    </tr>\n",
       "    <tr>\n",
       "      <th>2</th>\n",
       "      <td>9.550</td>\n",
       "      <td>16</td>\n",
       "      <td>69.7</td>\n",
       "      <td>0</td>\n",
       "      <td>1</td>\n",
       "      <td>1</td>\n",
       "    </tr>\n",
       "    <tr>\n",
       "      <th>3</th>\n",
       "      <td>11.125</td>\n",
       "      <td>14</td>\n",
       "      <td>71.0</td>\n",
       "      <td>0</td>\n",
       "      <td>0</td>\n",
       "      <td>0</td>\n",
       "    </tr>\n",
       "    <tr>\n",
       "      <th>4</th>\n",
       "      <td>4.800</td>\n",
       "      <td>5</td>\n",
       "      <td>56.9</td>\n",
       "      <td>0</td>\n",
       "      <td>0</td>\n",
       "      <td>0</td>\n",
       "    </tr>\n",
       "  </tbody>\n",
       "</table>\n",
       "</div>"
      ],
      "text/plain": [
       "   LungCap  Age  Height  Smoke  Gender  Caesarean\n",
       "0    6.475    6    62.1      0       0          0\n",
       "1   10.125   18    74.7      1       1          0\n",
       "2    9.550   16    69.7      0       1          1\n",
       "3   11.125   14    71.0      0       0          0\n",
       "4    4.800    5    56.9      0       0          0"
      ]
     },
     "execution_count": 6,
     "metadata": {},
     "output_type": "execute_result"
    }
   ],
   "source": [
    "lcn.head()"
   ]
  },
  {
   "cell_type": "code",
   "execution_count": 7,
   "id": "af56e1f3",
   "metadata": {},
   "outputs": [
    {
     "name": "stdout",
     "output_type": "stream",
     "text": [
      "<class 'pandas.core.frame.DataFrame'>\n",
      "RangeIndex: 725 entries, 0 to 724\n",
      "Data columns (total 6 columns):\n",
      " #   Column     Non-Null Count  Dtype  \n",
      "---  ------     --------------  -----  \n",
      " 0   LungCap    725 non-null    float64\n",
      " 1   Age        725 non-null    int64  \n",
      " 2   Height     725 non-null    float64\n",
      " 3   Smoke      725 non-null    int64  \n",
      " 4   Gender     725 non-null    int64  \n",
      " 5   Caesarean  725 non-null    int64  \n",
      "dtypes: float64(2), int64(4)\n",
      "memory usage: 34.1 KB\n"
     ]
    }
   ],
   "source": [
    "lcn.info()"
   ]
  },
  {
   "cell_type": "code",
   "execution_count": 8,
   "id": "c50b5c85",
   "metadata": {},
   "outputs": [
    {
     "data": {
      "text/plain": [
       "LungCap      0\n",
       "Age          0\n",
       "Height       0\n",
       "Smoke        0\n",
       "Gender       0\n",
       "Caesarean    0\n",
       "dtype: int64"
      ]
     },
     "execution_count": 8,
     "metadata": {},
     "output_type": "execute_result"
    }
   ],
   "source": [
    "lcn.isnull().sum()"
   ]
  },
  {
   "cell_type": "code",
   "execution_count": 10,
   "id": "ed31dd63",
   "metadata": {},
   "outputs": [],
   "source": [
    "from sklearn.model_selection import train_test_split"
   ]
  },
  {
   "cell_type": "code",
   "execution_count": 11,
   "id": "77ba2de0",
   "metadata": {},
   "outputs": [],
   "source": [
    "lcn_train, lcn_test = train_test_split(lcn, test_size = .2)"
   ]
  },
  {
   "cell_type": "code",
   "execution_count": 12,
   "id": "2f7ff138",
   "metadata": {},
   "outputs": [],
   "source": [
    "lcn_train_x = lcn_train.iloc[:, 1::]\n",
    "lcn_test_x = lcn_test.iloc[: , 1::]"
   ]
  },
  {
   "cell_type": "code",
   "execution_count": 13,
   "id": "29e45859",
   "metadata": {},
   "outputs": [],
   "source": [
    "lcn_train_y = lcn_train.iloc[:, 0]\n",
    "lcn_test_y = lcn_test.iloc[: , 0]"
   ]
  },
  {
   "cell_type": "code",
   "execution_count": 15,
   "id": "3f174050",
   "metadata": {},
   "outputs": [],
   "source": [
    "from sklearn.linear_model import LinearRegression"
   ]
  },
  {
   "cell_type": "code",
   "execution_count": 16,
   "id": "0181d969",
   "metadata": {},
   "outputs": [],
   "source": [
    "linreg = LinearRegression()"
   ]
  },
  {
   "cell_type": "code",
   "execution_count": 17,
   "id": "4b002c4f",
   "metadata": {},
   "outputs": [
    {
     "data": {
      "text/plain": [
       "LinearRegression()"
      ]
     },
     "execution_count": 17,
     "metadata": {},
     "output_type": "execute_result"
    }
   ],
   "source": [
    "linreg.fit(lcn_train_x, lcn_train_y)"
   ]
  },
  {
   "cell_type": "code",
   "execution_count": 18,
   "id": "b97144c5",
   "metadata": {},
   "outputs": [
    {
     "data": {
      "text/html": [
       "<div>\n",
       "<style scoped>\n",
       "    .dataframe tbody tr th:only-of-type {\n",
       "        vertical-align: middle;\n",
       "    }\n",
       "\n",
       "    .dataframe tbody tr th {\n",
       "        vertical-align: top;\n",
       "    }\n",
       "\n",
       "    .dataframe thead th {\n",
       "        text-align: right;\n",
       "    }\n",
       "</style>\n",
       "<table border=\"1\" class=\"dataframe\">\n",
       "  <thead>\n",
       "    <tr style=\"text-align: right;\">\n",
       "      <th></th>\n",
       "      <th>Age</th>\n",
       "      <th>Height</th>\n",
       "      <th>Smoke</th>\n",
       "      <th>Gender</th>\n",
       "      <th>Caesarean</th>\n",
       "    </tr>\n",
       "  </thead>\n",
       "  <tbody>\n",
       "    <tr>\n",
       "      <th>237</th>\n",
       "      <td>11</td>\n",
       "      <td>67.1</td>\n",
       "      <td>1</td>\n",
       "      <td>0</td>\n",
       "      <td>0</td>\n",
       "    </tr>\n",
       "    <tr>\n",
       "      <th>583</th>\n",
       "      <td>8</td>\n",
       "      <td>55.1</td>\n",
       "      <td>0</td>\n",
       "      <td>1</td>\n",
       "      <td>0</td>\n",
       "    </tr>\n",
       "    <tr>\n",
       "      <th>453</th>\n",
       "      <td>13</td>\n",
       "      <td>75.3</td>\n",
       "      <td>0</td>\n",
       "      <td>0</td>\n",
       "      <td>0</td>\n",
       "    </tr>\n",
       "    <tr>\n",
       "      <th>127</th>\n",
       "      <td>19</td>\n",
       "      <td>76.2</td>\n",
       "      <td>0</td>\n",
       "      <td>1</td>\n",
       "      <td>1</td>\n",
       "    </tr>\n",
       "    <tr>\n",
       "      <th>402</th>\n",
       "      <td>15</td>\n",
       "      <td>69.1</td>\n",
       "      <td>0</td>\n",
       "      <td>1</td>\n",
       "      <td>1</td>\n",
       "    </tr>\n",
       "  </tbody>\n",
       "</table>\n",
       "</div>"
      ],
      "text/plain": [
       "     Age  Height  Smoke  Gender  Caesarean\n",
       "237   11    67.1      1       0          0\n",
       "583    8    55.1      0       1          0\n",
       "453   13    75.3      0       0          0\n",
       "127   19    76.2      0       1          1\n",
       "402   15    69.1      0       1          1"
      ]
     },
     "execution_count": 18,
     "metadata": {},
     "output_type": "execute_result"
    }
   ],
   "source": [
    "lcn_train_x.head()"
   ]
  },
  {
   "cell_type": "code",
   "execution_count": 19,
   "id": "2614afd1",
   "metadata": {},
   "outputs": [
    {
     "data": {
      "text/plain": [
       "0.8529008820117225"
      ]
     },
     "execution_count": 19,
     "metadata": {},
     "output_type": "execute_result"
    }
   ],
   "source": [
    "Rsquare = linreg.score(lcn_train_x, lcn_train_y)\n",
    "Rsquare"
   ]
  },
  {
   "cell_type": "code",
   "execution_count": 20,
   "id": "92709ccf",
   "metadata": {},
   "outputs": [],
   "source": [
    "N = lcn_train_x.shape[0]\n",
    "K = lcn_train_x.shape[1]"
   ]
  },
  {
   "cell_type": "code",
   "execution_count": 21,
   "id": "c06b193b",
   "metadata": {},
   "outputs": [
    {
     "data": {
      "text/plain": [
       "0.8516195308097341"
      ]
     },
     "execution_count": 21,
     "metadata": {},
     "output_type": "execute_result"
    }
   ],
   "source": [
    "Adj_Rsquare = 1 - (1-Rsquare) * (N-1)/(N-K-1)\n",
    "Adj_Rsquare"
   ]
  },
  {
   "cell_type": "code",
   "execution_count": 25,
   "id": "20d3e4c1",
   "metadata": {},
   "outputs": [],
   "source": [
    "pred_train =linreg.predict(lcn_train_x)\n",
    "pred_test= linreg.predict(lcn_test_x)"
   ]
  },
  {
   "cell_type": "code",
   "execution_count": 26,
   "id": "e785a19f",
   "metadata": {},
   "outputs": [
    {
     "data": {
      "text/plain": [
       "array([ 7.89237339,  5.46702532,  8.05205076,  7.13145858, 10.14662125,\n",
       "        5.26859147,  9.15854699,  5.78887633, 10.74923107,  9.80822739,\n",
       "        8.54934252,  7.31418807,  8.45327854,  6.75442934,  5.62778708,\n",
       "        9.18657472,  9.25209141,  8.74179799,  7.1503766 ,  5.0512396 ,\n",
       "        9.21147112, 11.61110386, 10.26743723,  2.34302297,  6.4655824 ,\n",
       "        7.26357635, 11.0169292 ,  9.02194432, 11.97193731,  9.87491007,\n",
       "        4.95918867, 10.39894251,  6.24659269,  8.43049188,  6.97341905,\n",
       "        9.37223288,  7.20098833,  4.22024159,  9.44937885,  5.04090115,\n",
       "        7.36561872,  4.38018443,  8.606077  ,  4.04234408,  3.40979944,\n",
       "        4.38018443,  4.44134105,  9.21875985,  8.56260964, 11.47218879,\n",
       "        5.15246305,  6.48482791,  9.98823465, 10.2748508 ,  6.2885038 ,\n",
       "        8.8454782 ,  3.11741135, 11.60381513,  8.88364173,  4.84306025,\n",
       "        2.43179823,  7.77870174,  6.44959305,  5.8264469 ,  3.15182729,\n",
       "        4.47657591,  4.48984303,  5.79792775,  8.97690189,  7.23057229,\n",
       "        7.30982801,  7.23622318,  3.78600976,  6.34781614,  7.19533743,\n",
       "        9.86164294,  7.69991793,  8.79322864, 11.60158433, 13.03871378,\n",
       "        6.83722621,  4.50229123, 10.83168086,  3.49857469,  9.84837582,\n",
       "        4.83143097,  5.34301522,  9.29072684,  9.82442318,  7.11010332,\n",
       "       12.25480587, 10.87133787,  5.66676953,  3.87267527, 10.25783609,\n",
       "        8.07612825,  5.7382646 ,  9.60448971,  4.52800656,  3.98200637,\n",
       "       10.94848384,  9.93878891,  3.99609242,  7.91243782,  8.38553105,\n",
       "        7.31146585,  4.64788256,  8.02013109,  9.37903018,  9.6025048 ,\n",
       "        7.07709927,  7.42302775,  3.50586343,  9.51135439, 11.59959943,\n",
       "        8.08939537,  7.66773279,  9.72061812, 12.22909055,  8.55988742,\n",
       "        8.04101444,  4.79244852,  5.56274224,  9.00656745,  7.97631667,\n",
       "        6.29685735,  7.18561145,  7.56405257, 10.24315709,  9.08371342,\n",
       "       11.38646326,  3.42599523,  8.77431062,  8.29020438, 10.93732647,\n",
       "        9.97130155,  7.57134131,  2.97040814,  5.30757392, 11.33421369,\n",
       "       10.47377608,  7.86665807,  8.60675156,  5.73744568,  4.63168677])"
      ]
     },
     "execution_count": 26,
     "metadata": {},
     "output_type": "execute_result"
    }
   ],
   "source": [
    "pred_test"
   ]
  },
  {
   "cell_type": "code",
   "execution_count": 28,
   "id": "c66c03f3",
   "metadata": {},
   "outputs": [],
   "source": [
    "err_test = lcn_test_y -pred_test\n",
    "err_test"
   ]
  },
  {
   "cell_type": "code",
   "execution_count": 30,
   "id": "2e6e0475",
   "metadata": {},
   "outputs": [
    {
     "data": {
      "text/plain": [
       "1.1284031864734807"
      ]
     },
     "execution_count": 30,
     "metadata": {},
     "output_type": "execute_result"
    }
   ],
   "source": [
    "import numpy as np\n",
    "mse = np.mean(np.square(err_test))\n",
    "mse"
   ]
  },
  {
   "cell_type": "code",
   "execution_count": 31,
   "id": "d6994759",
   "metadata": {},
   "outputs": [
    {
     "data": {
      "text/plain": [
       "1.0622632378433703"
      ]
     },
     "execution_count": 31,
     "metadata": {},
     "output_type": "execute_result"
    }
   ],
   "source": [
    "rmse = np.sqrt(mse)\n",
    "rmse"
   ]
  },
  {
   "cell_type": "code",
   "execution_count": 32,
   "id": "6e72fb1e",
   "metadata": {},
   "outputs": [
    {
     "data": {
      "text/plain": [
       "13.413035401018432"
      ]
     },
     "execution_count": 32,
     "metadata": {},
     "output_type": "execute_result"
    }
   ],
   "source": [
    "mape = np.mean(np.abs(err_test*100/lcn_test_y))\n",
    "mape\n",
    "# therefore accuracy is around 88.29"
   ]
  },
  {
   "cell_type": "code",
   "execution_count": 50,
   "id": "677bb2d4",
   "metadata": {},
   "outputs": [
    {
     "data": {
      "text/plain": [
       "35     0.932627\n",
       "532    0.307975\n",
       "489   -1.327051\n",
       "372   -0.206459\n",
       "521   -0.296621\n",
       "         ...   \n",
       "621    0.151224\n",
       "667    0.183342\n",
       "444   -0.906752\n",
       "242    0.837554\n",
       "153   -0.106687\n",
       "Name: LungCap, Length: 145, dtype: float64"
      ]
     },
     "execution_count": 50,
     "metadata": {},
     "output_type": "execute_result"
    }
   ],
   "source": [
    "err_train = lcn_train_y - pred_train\n",
    "err_test"
   ]
  },
  {
   "cell_type": "code",
   "execution_count": 36,
   "id": "65f6e436",
   "metadata": {},
   "outputs": [
    {
     "data": {
      "text/plain": [
       "-1.3713168531749347e-15"
      ]
     },
     "execution_count": 36,
     "metadata": {},
     "output_type": "execute_result"
    }
   ],
   "source": [
    "np.mean(err_train)"
   ]
  },
  {
   "cell_type": "code",
   "execution_count": 37,
   "id": "b1ff94dd",
   "metadata": {},
   "outputs": [],
   "source": [
    "import matplotlib.pyplot as plt"
   ]
  },
  {
   "cell_type": "code",
   "execution_count": 38,
   "id": "b1e25fe1",
   "metadata": {},
   "outputs": [
    {
     "data": {
      "text/plain": [
       "[<matplotlib.lines.Line2D at 0x1af3596d6d0>]"
      ]
     },
     "execution_count": 38,
     "metadata": {},
     "output_type": "execute_result"
    },
    {
     "data": {
      "image/png": "[encoded data removed]",
      "text/plain": [
       "<Figure size 432x288 with 1 Axes>"
      ]
     },
     "metadata": {
      "needs_background": "light"
     },
     "output_type": "display_data"
    }
   ],
   "source": [
    "plt.plot(err_train, '*')"
   ]
  },
  {
   "cell_type": "code",
   "execution_count": 39,
   "id": "cfb1b57d",
   "metadata": {},
   "outputs": [
    {
     "data": {
      "image/png": "[encoded data removed]",
      "text/plain": [
       "<Figure size 432x288 with 1 Axes>"
      ]
     },
     "metadata": {
      "needs_background": "light"
     },
     "output_type": "display_data"
    }
   ],
   "source": [
    "plt.hist(err_train , bins = 20 , edgecolor = \"g\");"
   ]
  },
  {
   "cell_type": "code",
   "execution_count": 40,
   "id": "c0f5ab70",
   "metadata": {},
   "outputs": [],
   "source": [
    "pred_actual_df = pd.DataFrame()"
   ]
  },
  {
   "cell_type": "code",
   "execution_count": 41,
   "id": "7d2fb756",
   "metadata": {},
   "outputs": [],
   "source": [
    "pred_actual_df[\"Actual\"] = lcn_train_y\n",
    "pred_actual_df[\"Predict\"] = pred_train"
   ]
  },
  {
   "cell_type": "code",
   "execution_count": 42,
   "id": "03314aaa",
   "metadata": {},
   "outputs": [
    {
     "data": {
      "text/html": [
       "<div>\n",
       "<style scoped>\n",
       "    .dataframe tbody tr th:only-of-type {\n",
       "        vertical-align: middle;\n",
       "    }\n",
       "\n",
       "    .dataframe tbody tr th {\n",
       "        vertical-align: top;\n",
       "    }\n",
       "\n",
       "    .dataframe thead th {\n",
       "        text-align: right;\n",
       "    }\n",
       "</style>\n",
       "<table border=\"1\" class=\"dataframe\">\n",
       "  <thead>\n",
       "    <tr style=\"text-align: right;\">\n",
       "      <th></th>\n",
       "      <th>Actual</th>\n",
       "      <th>Predict</th>\n",
       "    </tr>\n",
       "  </thead>\n",
       "  <tbody>\n",
       "    <tr>\n",
       "      <th>237</th>\n",
       "      <td>7.925</td>\n",
       "      <td>7.922574</td>\n",
       "    </tr>\n",
       "    <tr>\n",
       "      <th>583</th>\n",
       "      <td>4.450</td>\n",
       "      <td>4.528825</td>\n",
       "    </tr>\n",
       "    <tr>\n",
       "      <th>453</th>\n",
       "      <td>10.450</td>\n",
       "      <td>10.915152</td>\n",
       "    </tr>\n",
       "    <tr>\n",
       "      <th>127</th>\n",
       "      <td>11.700</td>\n",
       "      <td>11.685528</td>\n",
       "    </tr>\n",
       "    <tr>\n",
       "      <th>402</th>\n",
       "      <td>8.425</td>\n",
       "      <td>9.189503</td>\n",
       "    </tr>\n",
       "  </tbody>\n",
       "</table>\n",
       "</div>"
      ],
      "text/plain": [
       "     Actual    Predict\n",
       "237   7.925   7.922574\n",
       "583   4.450   4.528825\n",
       "453  10.450  10.915152\n",
       "127  11.700  11.685528\n",
       "402   8.425   9.189503"
      ]
     },
     "execution_count": 42,
     "metadata": {},
     "output_type": "execute_result"
    }
   ],
   "source": [
    "pred_actual_df.head()"
   ]
  },
  {
   "cell_type": "code",
   "execution_count": 43,
   "id": "f25522a1",
   "metadata": {},
   "outputs": [],
   "source": [
    "import seaborn as sns"
   ]
  },
  {
   "cell_type": "code",
   "execution_count": 44,
   "id": "5cf1ceaf",
   "metadata": {},
   "outputs": [
    {
     "data": {
      "text/plain": [
       "<seaborn.axisgrid.JointGrid at 0x1af358f2550>"
      ]
     },
     "execution_count": 44,
     "metadata": {},
     "output_type": "execute_result"
    },
    {
     "data": {
      "image/png": "[encoded data removed]",
      "text/plain": [
       "<Figure size 432x432 with 3 Axes>"
      ]
     },
     "metadata": {
      "needs_background": "light"
     },
     "output_type": "display_data"
    }
   ],
   "source": [
    "sns.jointplot(x = \"Actual\", y = \"Predict\", data = pred_actual_df , kind = \"reg\")"
   ]
  },
  {
   "cell_type": "code",
   "execution_count": 45,
   "id": "a4380816",
   "metadata": {},
   "outputs": [],
   "source": [
    "# remove the outliers"
   ]
  },
  {
   "cell_type": "code",
   "execution_count": 46,
   "id": "4732edf9",
   "metadata": {},
   "outputs": [],
   "source": [
    "def remove_outliers(df, col, k):\n",
    "    mean = df[col].mean()\n",
    "    global df1\n",
    "    sd= df[col].std()\n",
    "    final_list = [x for x in df[col] if (x > mean - k * sd)]\n",
    "    final_list = [x for x in final_list if (x < mean + k * sd)]\n",
    "    df1 = df.loc[df[col].isin(final_list)] ; print(df1.shape)\n",
    "    print(\"Number of outliers removed ===>\"  ,  df.shape[0] - df1.shape[0])"
   ]
  },
  {
   "cell_type": "code",
   "execution_count": 48,
   "id": "51d97691",
   "metadata": {},
   "outputs": [
    {
     "name": "stdout",
     "output_type": "stream",
     "text": [
      "(695, 6)\n",
      "Number of outliers removed ===> 30\n"
     ]
    }
   ],
   "source": [
    "remove_outliers(lcn, \"LungCap\" , 2)"
   ]
  },
  {
   "cell_type": "code",
   "execution_count": 49,
   "id": "681a6f02",
   "metadata": {},
   "outputs": [
    {
     "data": {
      "text/html": [
       "<div>\n",
       "<style scoped>\n",
       "    .dataframe tbody tr th:only-of-type {\n",
       "        vertical-align: middle;\n",
       "    }\n",
       "\n",
       "    .dataframe tbody tr th {\n",
       "        vertical-align: top;\n",
       "    }\n",
       "\n",
       "    .dataframe thead th {\n",
       "        text-align: right;\n",
       "    }\n",
       "</style>\n",
       "<table border=\"1\" class=\"dataframe\">\n",
       "  <thead>\n",
       "    <tr style=\"text-align: right;\">\n",
       "      <th></th>\n",
       "      <th>LungCap</th>\n",
       "      <th>Age</th>\n",
       "      <th>Height</th>\n",
       "      <th>Smoke</th>\n",
       "      <th>Gender</th>\n",
       "      <th>Caesarean</th>\n",
       "    </tr>\n",
       "  </thead>\n",
       "  <tbody>\n",
       "    <tr>\n",
       "      <th>0</th>\n",
       "      <td>6.475</td>\n",
       "      <td>6</td>\n",
       "      <td>62.1</td>\n",
       "      <td>0</td>\n",
       "      <td>0</td>\n",
       "      <td>0</td>\n",
       "    </tr>\n",
       "    <tr>\n",
       "      <th>1</th>\n",
       "      <td>10.125</td>\n",
       "      <td>18</td>\n",
       "      <td>74.7</td>\n",
       "      <td>1</td>\n",
       "      <td>1</td>\n",
       "      <td>0</td>\n",
       "    </tr>\n",
       "    <tr>\n",
       "      <th>2</th>\n",
       "      <td>9.550</td>\n",
       "      <td>16</td>\n",
       "      <td>69.7</td>\n",
       "      <td>0</td>\n",
       "      <td>1</td>\n",
       "      <td>1</td>\n",
       "    </tr>\n",
       "    <tr>\n",
       "      <th>3</th>\n",
       "      <td>11.125</td>\n",
       "      <td>14</td>\n",
       "      <td>71.0</td>\n",
       "      <td>0</td>\n",
       "      <td>0</td>\n",
       "      <td>0</td>\n",
       "    </tr>\n",
       "    <tr>\n",
       "      <th>4</th>\n",
       "      <td>4.800</td>\n",
       "      <td>5</td>\n",
       "      <td>56.9</td>\n",
       "      <td>0</td>\n",
       "      <td>0</td>\n",
       "      <td>0</td>\n",
       "    </tr>\n",
       "  </tbody>\n",
       "</table>\n",
       "</div>"
      ],
      "text/plain": [
       "   LungCap  Age  Height  Smoke  Gender  Caesarean\n",
       "0    6.475    6    62.1      0       0          0\n",
       "1   10.125   18    74.7      1       1          0\n",
       "2    9.550   16    69.7      0       1          1\n",
       "3   11.125   14    71.0      0       0          0\n",
       "4    4.800    5    56.9      0       0          0"
      ]
     },
     "execution_count": 49,
     "metadata": {},
     "output_type": "execute_result"
    }
   ],
   "source": [
    "lcn.head()"
   ]
  },
  {
   "cell_type": "code",
   "execution_count": null,
   "id": "f87b9955",
   "metadata": {},
   "outputs": [],
   "source": []
  },
  {
   "cell_type": "code",
   "execution_count": null,
   "id": "7a2232c2",
   "metadata": {},
   "outputs": [],
   "source": []
  },
  {
   "cell_type": "code",
   "execution_count": null,
   "id": "c608a671",
   "metadata": {},
   "outputs": [],
   "source": []
  },
  {
   "cell_type": "code",
   "execution_count": null,
   "id": "a4d883ab",
   "metadata": {},
   "outputs": [],
   "source": []
  },
  {
   "cell_type": "code",
   "execution_count": null,
   "id": "00f73cbb",
   "metadata": {},
   "outputs": [],
   "source": []
  },
  {
   "cell_type": "code",
   "execution_count": null,
   "id": "f6fe1954",
   "metadata": {},
   "outputs": [],
   "source": []
  },
  {
   "cell_type": "code",
   "execution_count": null,
   "id": "0c611b0c",
   "metadata": {},
   "outputs": [],
   "source": []
  },
  {
   "cell_type": "code",
   "execution_count": null,
   "id": "49683ac8",
   "metadata": {},
   "outputs": [],
   "source": []
  },
  {
   "cell_type": "code",
   "execution_count": null,
   "id": "064fc042",
   "metadata": {},
   "outputs": [],
   "source": []
  },
  {
   "cell_type": "code",
   "execution_count": null,
   "id": "f8791643",
   "metadata": {},
   "outputs": [],
   "source": []
  },
  {
   "cell_type": "code",
   "execution_count": null,
   "id": "c28d5908",
   "metadata": {},
   "outputs": [],
   "source": []
  },
  {
   "cell_type": "code",
   "execution_count": null,
   "id": "27eef979",
   "metadata": {},
   "outputs": [],
   "source": []
  },
  {
   "cell_type": "code",
   "execution_count": null,
   "id": "14875114",
   "metadata": {},
   "outputs": [],
   "source": []
  },
  {
   "cell_type": "code",
   "execution_count": null,
   "id": "1cc8018a",
   "metadata": {},
   "outputs": [],
   "source": []
  },
  {
   "cell_type": "code",
   "execution_count": null,
   "id": "a02363e2",
   "metadata": {},
   "outputs": [],
   "source": []
  },
  {
   "cell_type": "code",
   "execution_count": null,
   "id": "ddc0917d",
   "metadata": {},
   "outputs": [],
   "source": []
  },
  {
   "cell_type": "code",
   "execution_count": null,
   "id": "f82eaccb",
   "metadata": {},
   "outputs": [],
   "source": []
  },
  {
   "cell_type": "code",
   "execution_count": null,
   "id": "b21808a4",
   "metadata": {},
   "outputs": [],
   "source": []
  },
  {
   "cell_type": "code",
   "execution_count": null,
   "id": "c4ad54c0",
   "metadata": {},
   "outputs": [],
   "source": []
  },
  {
   "cell_type": "code",
   "execution_count": null,
   "id": "45199ce9",
   "metadata": {},
   "outputs": [],
   "source": []
  },
  {
   "cell_type": "code",
   "execution_count": null,
   "id": "3e6edade",
   "metadata": {},
   "outputs": [],
   "source": []
  }
 ],
 "metadata": {
  "kernelspec": {
   "display_name": "Python 3 (ipykernel)",
   "language": "python",
   "name": "python3"
  },
  "language_info": {
   "codemirror_mode": {
    "name": "ipython",
    "version": 3
   },
   "file_extension": ".py",
   "mimetype": "text/x-python",
   "name": "python",
   "nbconvert_exporter": "python",
   "pygments_lexer": "ipython3",
   "version": "3.9.12"
  }
 },
 "nbformat": 4,
 "nbformat_minor": 5
}
